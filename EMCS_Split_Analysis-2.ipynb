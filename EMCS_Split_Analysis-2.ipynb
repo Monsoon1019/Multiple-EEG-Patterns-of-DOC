{
 "cells": [
  {
   "cell_type": "code",
   "execution_count": 1,
   "id": "42ef323c",
   "metadata": {},
   "outputs": [],
   "source": [
    "import numpy as np\n",
    "import pandas as pd\n",
    "import matplotlib.pyplot as plt\n",
    "import seaborn as sns\n",
    "from sklearn.ensemble import RandomForestClassifier\n",
    "from sklearn.model_selection import train_test_split\n",
    "from sklearn.metrics import roc_curve, auc, accuracy_score, classification_report\n",
    "from xgboost import XGBClassifier\n",
    "from sklearn.svm import SVC\n",
    "from imblearn.over_sampling import SMOTE\n",
    "import shap\n",
    "from sklearn.preprocessing import StandardScaler\n",
    "from sklearn.preprocessing import MinMaxScaler\n",
    "import warnings\n",
    "warnings.filterwarnings(\"ignore\", category=RuntimeWarning)\n",
    "plt.rcParams['font.family'] = 'serif'"
   ]
  },
  {
   "cell_type": "code",
   "execution_count": 2,
   "id": "0500be5b",
   "metadata": {},
   "outputs": [],
   "source": [
    "general_information = pd.read_excel('/home/jiangjingwen/Downloads/LiHui/data/1.一般资料.xlsx')"
   ]
  },
  {
   "cell_type": "code",
   "execution_count": 3,
   "id": "7d2f6cef",
   "metadata": {},
   "outputs": [],
   "source": [
    "all_feature = pd.read_excel('/home/jiangjingwen/Downloads/LiHui/data/8.feature_merged_prognosis.xlsx')"
   ]
  },
  {
   "cell_type": "code",
   "execution_count": 4,
   "id": "58d7bb96",
   "metadata": {
    "scrolled": true
   },
   "outputs": [],
   "source": [
    "all_feature = all_feature.drop(columns=['patients'])"
   ]
  },
  {
   "cell_type": "code",
   "execution_count": 5,
   "id": "7e417a4d",
   "metadata": {},
   "outputs": [],
   "source": [
    "grouped = all_feature.groupby(all_feature.columns[0])\n",
    "group_labels = list(grouped.groups.keys())\n",
    "hc_data = grouped.get_group(group_labels[0])\n",
    "coma_data = grouped.get_group(group_labels[1])\n",
    "awake_data = grouped.get_group(group_labels[2])\n",
    "\n",
    "coma_awake_data = pd.concat([coma_data, awake_data], ignore_index=True)\n",
    "y = coma_awake_data['status_after_6_months']\n",
    "label2id = {1:0., 2:1.}\n",
    "y = y.map(label2id)"
   ]
  },
  {
   "cell_type": "code",
   "execution_count": 6,
   "id": "1761fd46",
   "metadata": {},
   "outputs": [],
   "source": [
    "datasets = {\n",
    "    \"HC\": hc_data,\n",
    "    \"COMA\": coma_data,\n",
    "    \"AWAKE\": awake_data\n",
    "}\n",
    "\n",
    "data_ranges = {\n",
    "    \"Power_Spectrum\": slice(3, 33),\n",
    "    \"Microstate\": slice(33, 81),\n",
    "    \"Audio\": slice(81, None)\n",
    "}"
   ]
  },
  {
   "cell_type": "code",
   "execution_count": 7,
   "id": "f0af0956",
   "metadata": {},
   "outputs": [],
   "source": [
    "split_dataset = {}\n",
    "for dataset_name, dataset in datasets.items():\n",
    "    for range_name, data_range in data_ranges.items():\n",
    "        subset_name = '_'.join([dataset_name, range_name])\n",
    "        data_subset = dataset.iloc[:, data_range]\n",
    "        split_dataset[subset_name] = data_subset"
   ]
  },
  {
   "cell_type": "code",
   "execution_count": 8,
   "id": "8eba9e7e",
   "metadata": {},
   "outputs": [],
   "source": [
    "HC_Power_Spectrum = split_dataset['HC_Power_Spectrum']\n",
    "HC_Microstate = split_dataset['HC_Microstate']\n",
    "HC_Audio = split_dataset['HC_Audio']\n",
    "COMA_Power_Spectrum = split_dataset['COMA_Power_Spectrum']\n",
    "COMA_Microstate = split_dataset['COMA_Microstate']\n",
    "COMA_Audio = split_dataset['COMA_Audio']\n",
    "AWAKE_Power_Spectrum = split_dataset['AWAKE_Power_Spectrum']\n",
    "AWAKE_Microstate = split_dataset['AWAKE_Microstate']\n",
    "AWAKE_Audio = split_dataset['AWAKE_Audio']\n",
    "\n",
    "COMA_AWAKE_Power_Spectrum = pd.concat([COMA_Power_Spectrum, AWAKE_Power_Spectrum], ignore_index=True)\n",
    "COMA_AWAKE_Microstate = pd.concat([COMA_Microstate, AWAKE_Microstate], ignore_index=True)\n",
    "COMA_AWAKE_Audio = pd.concat([COMA_Audio, AWAKE_Audio], ignore_index=True)"
   ]
  },
  {
   "cell_type": "code",
   "execution_count": 9,
   "id": "d976be48",
   "metadata": {},
   "outputs": [],
   "source": [
    "def plot_roc_curve_and_compute_auc_with_model(X, y, model, test_size=0.4, random_state=42):\n",
    "    X_train, X_test, y_train, y_test = train_test_split(X, y, test_size=test_size, random_state=random_state)\n",
    "    model.fit(X_train, y_train)\n",
    "    y_pred_proba = model.predict_proba(X_test)[:, 1]\n",
    "    fpr, tpr, _ = roc_curve(y_test, y_pred_proba)\n",
    "    roc_auc = auc(fpr, tpr)\n",
    "\n",
    "    return fpr, tpr, roc_auc, X_train, X_test, y_train, y_test"
   ]
  },
  {
   "cell_type": "code",
   "execution_count": 10,
   "id": "69a11e3e",
   "metadata": {
    "scrolled": true
   },
   "outputs": [],
   "source": [
    "X_list = [COMA_AWAKE_Power_Spectrum, COMA_AWAKE_Microstate, COMA_AWAKE_Audio]\n",
    "X_name_list = ['COMA_AWAKE_Power_Spectrum', 'COMA_AWAKE_Microstate', 'COMA_AWAKE_Audio']\n",
    "model_list = [XGBClassifier(), RandomForestClassifier(n_estimators=100, random_state=42), SVC(kernel='rbf', probability=True, random_state=42)]\n",
    "model_name_list = ['XGB', 'RandomForest', 'SVC']"
   ]
  },
  {
   "cell_type": "code",
   "execution_count": 11,
   "id": "753ee534",
   "metadata": {
    "scrolled": true
   },
   "outputs": [],
   "source": [
    "for i, (X, X_name) in enumerate(zip(X_list, X_name_list)):\n",
    "    feature_names = X.columns\n",
    "    X = np.array(X)\n",
    "    y = np.array(y)\n",
    "    fig, axs = plt.subplots(1, len(model_list), figsize=(len(model_list)*8, 6))\n",
    "    fig, axs2 = plt.subplots(1, len(model_list), figsize=(len(model_list)*8, 6))\n",
    "    fig, axs3 = plt.subplots(1, len(model_list), figsize=(len(model_list)*8, 6))\n",
    "    for j, (model, model_name) in enumerate(zip(model_list, model_name_list)):\n",
    "        fpr, tpr, roc_auc, X_train, X_test, y_train, y_test = plot_roc_curve_and_compute_auc_with_model(X, y, model)\n",
    "        axs[j].plot(fpr, tpr, lw=2, color='darkorange', label=f'{model_name} (AUC = {roc_auc:.2f})')\n",
    "        axs[j].plot([0, 1], [0, 1], color='navy', lw=2, linestyle='--')\n",
    "        axs[j].set_xlim([0.0, 1.0])\n",
    "        axs[j].set_ylim([0.0, 1.05])\n",
    "        axs[j].set_xlabel('False Positive Rate')\n",
    "        axs[j].set_ylabel('True Positive Rate')\n",
    "        axs[j].set_title(f'{X_name}')\n",
    "        axs[j].legend(loc=\"upper left\")\n",
    "        if model_name != 'SVC':\n",
    "            feature_importances = model.feature_importances_\n",
    "            feature_importance_df = pd.DataFrame({'feature': feature_names, 'importance': feature_importances})\n",
    "            feature_importance_df = feature_importance_df.sort_values(by='importance', ascending=False)\n",
    "            top_10_features = feature_importance_df.head(10)\n",
    "            axs2[j].barh(top_10_features['feature'][::-1], top_10_features['importance'][::-1], color='skyblue')\n",
    "            axs2[j].set_xlabel('Importance')\n",
    "            axs2[j].set_title(f'Top 10 Feature Importances in {model_name}')\n",
    "            \n",
    "            explainer = shap.TreeExplainer(model)\n",
    "            shap_values = explainer.shap_values(X_test)\n",
    "            if model_name == 'RandomForest':\n",
    "                shap_values = np.abs(shap_values).mean(axis=-1)\n",
    "            shap_values_summary = np.abs(shap_values).mean(axis=0)\n",
    "            # 排序特征和SHAP值\n",
    "            sorted_indices = np.argsort(shap_values_summary)\n",
    "            top_features = feature_names[sorted_indices][-10:]  # 取出排名前10的特征\n",
    "            top_shap_values = shap_values_summary[sorted_indices][-10:]\n",
    "            axs3[j].barh(top_features, top_shap_values, color='skyblue')\n",
    "            axs3[j].set_xlabel('SHAP Value')\n",
    "            axs3[j].set_title(f'Top 10 SHAP Values in {model_name}')\n",
    "        else:\n",
    "            # 使用KernelExplainer解释模型\n",
    "            explainer = shap.KernelExplainer(model.predict, X_train)\n",
    "            shap_values = explainer.shap_values(X)\n",
    "            shap_values_summary = np.abs(shap_values).mean(axis=0)\n",
    "            \n",
    "            # 排序特征和SHAP值\n",
    "            sorted_indices = np.argsort(shap_values_summary)\n",
    "            top_features = feature_names[sorted_indices][-10:]  # 取出排名前10的特征\n",
    "            top_shap_values = shap_values_summary[sorted_indices][-10:]\n",
    "            axs3[j].barh(top_features, top_shap_values, color='skyblue')\n",
    "            axs3[j].set_xlabel('SHAP Value')\n",
    "            axs3[j].set_title(f'Top 10 SHAP Values in {model_name}')\n",
    "        \n",
    "plt.tight_layout()\n",
    "plt.show()"
   ]
  },
  {
   "cell_type": "code",
   "execution_count": 12,
   "id": "997acc09",
   "metadata": {},
   "outputs": [],
   "source": [
    "split_dataset_scaled = {}\n",
    "scaler = MinMaxScaler()\n",
    "for dataset_name, dataset in datasets.items():\n",
    "    for range_name, data_range in data_ranges.items():\n",
    "        subset_name = '_'.join([dataset_name, range_name, 'scaled'])\n",
    "        data_subset = dataset.iloc[:, data_range]\n",
    "        split_dataset_scaled[subset_name] = pd.DataFrame(scaler.fit_transform(data_subset), columns=data_subset.columns)"
   ]
  },
  {
   "cell_type": "code",
   "execution_count": 13,
   "id": "d29ac9c0",
   "metadata": {},
   "outputs": [],
   "source": [
    "split_dataset_scaled.keys()"
   ]
  },
  {
   "cell_type": "code",
   "execution_count": 14,
   "id": "96457fad",
   "metadata": {},
   "outputs": [],
   "source": [
    "HC_Power_Spectrum_scaled = split_dataset_scaled['HC_Power_Spectrum_scaled']\n",
    "HC_Microstate_scaled = split_dataset_scaled['HC_Microstate_scaled']\n",
    "HC_Audio_scaled = split_dataset_scaled['HC_Audio_scaled']\n",
    "COMA_Power_Spectrum_scaled = split_dataset_scaled['COMA_Power_Spectrum_scaled']\n",
    "COMA_Microstate_scaled = split_dataset_scaled['COMA_Microstate_scaled']\n",
    "COMA_Audio_scaled = split_dataset_scaled['COMA_Audio_scaled']\n",
    "AWAKE_Power_Spectrum_scaled = split_dataset_scaled['AWAKE_Power_Spectrum_scaled']\n",
    "AWAKE_Microstate_scaled = split_dataset_scaled['AWAKE_Microstate_scaled']\n",
    "AWAKE_Audio_scaled = split_dataset_scaled['AWAKE_Audio_scaled']\n",
    "\n",
    "COMA_AWAKE_Power_Spectrum_scaled = pd.concat([COMA_Power_Spectrum_scaled, AWAKE_Power_Spectrum_scaled], ignore_index=True)\n",
    "COMA_AWAKE_Microstate = pd.concat([COMA_Microstate_scaled, AWAKE_Microstate_scaled], ignore_index=True)\n",
    "COMA_AWAKE_Audio_scaled = pd.concat([COMA_Audio_scaled, AWAKE_Audio_scaled], ignore_index=True)"
   ]
  },
  {
   "cell_type": "code",
   "execution_count": 15,
   "id": "568d0636",
   "metadata": {},
   "outputs": [],
   "source": [
    "X_list = [COMA_AWAKE_Power_Spectrum_scaled, COMA_AWAKE_Microstate, COMA_AWAKE_Audio_scaled]\n",
    "X_name_list = ['COMA_AWAKE_Power_Spectrum_scaled', 'COMA_Microstate_scaled', 'COMA_AWAKE_Audio_scaled']\n",
    "model_list = [XGBClassifier(), RandomForestClassifier(n_estimators=100, random_state=42), SVC(kernel='rbf', probability=True, random_state=42)]\n",
    "model_name_list = ['XGB', 'RandomForest', 'SVC']"
   ]
  },
  {
   "cell_type": "code",
   "execution_count": 16,
   "id": "f59f4c37",
   "metadata": {},
   "outputs": [],
   "source": [
    "for i, (X, X_name) in enumerate(zip(X_list, X_name_list)):\n",
    "    feature_names = X.columns\n",
    "    X = np.array(X)\n",
    "    y = np.array(y)\n",
    "    fig, axs = plt.subplots(1, len(model_list), figsize=(len(model_list)*8, 6))\n",
    "    fig, axs2 = plt.subplots(1, len(model_list), figsize=(len(model_list)*8, 6))\n",
    "    fig, axs3 = plt.subplots(1, len(model_list), figsize=(len(model_list)*8, 6))\n",
    "    for j, (model, model_name) in enumerate(zip(model_list, model_name_list)):\n",
    "        fpr, tpr, roc_auc, X_train, X_test, y_train, y_test = plot_roc_curve_and_compute_auc_with_model(X, y, model)\n",
    "        axs[j].plot(fpr, tpr, lw=2, color='darkorange', label=f'{model_name} (AUC = {roc_auc:.2f})')\n",
    "        axs[j].plot([0, 1], [0, 1], color='navy', lw=2, linestyle='--')\n",
    "        axs[j].set_xlim([0.0, 1.0])\n",
    "        axs[j].set_ylim([0.0, 1.05])\n",
    "        axs[j].set_xlabel('False Positive Rate')\n",
    "        axs[j].set_ylabel('True Positive Rate')\n",
    "        axs[j].set_title(f'{X_name}')\n",
    "        axs[j].legend(loc=\"upper left\")\n",
    "        if model_name != 'SVC':\n",
    "            feature_importances = model.feature_importances_\n",
    "            feature_importance_df = pd.DataFrame({'feature': feature_names, 'importance': feature_importances})\n",
    "            feature_importance_df = feature_importance_df.sort_values(by='importance', ascending=False)\n",
    "            top_10_features = feature_importance_df.head(10)\n",
    "            axs2[j].barh(top_10_features['feature'][::-1], top_10_features['importance'][::-1], color='skyblue')\n",
    "            axs2[j].set_xlabel('Importance')\n",
    "            axs2[j].set_title(f'Top 10 Feature Importances in {model_name}')\n",
    "            \n",
    "            explainer = shap.TreeExplainer(model)\n",
    "            shap_values = explainer.shap_values(X_test)\n",
    "            if model_name == 'RandomForest':\n",
    "                shap_values = np.abs(shap_values).mean(axis=-1)\n",
    "            shap_values_summary = np.abs(shap_values).mean(axis=0)\n",
    "            # 排序特征和SHAP值\n",
    "            sorted_indices = np.argsort(shap_values_summary)\n",
    "            top_features = feature_names[sorted_indices][-10:]  # 取出排名前10的特征\n",
    "            top_shap_values = shap_values_summary[sorted_indices][-10:]\n",
    "            axs3[j].barh(top_features, top_shap_values, color='skyblue')\n",
    "            axs3[j].set_xlabel('SHAP Value')\n",
    "            axs3[j].set_title(f'Top 10 SHAP Values in {model_name}')\n",
    "        else:\n",
    "            # 使用KernelExplainer解释模型\n",
    "            explainer = shap.KernelExplainer(model.predict, X_train)\n",
    "            shap_values = explainer.shap_values(X)\n",
    "            shap_values_summary = np.abs(shap_values).mean(axis=0)\n",
    "            \n",
    "            # 排序特征和SHAP值\n",
    "            sorted_indices = np.argsort(shap_values_summary)\n",
    "            top_features = feature_names[sorted_indices][-10:]  # 取出排名前10的特征\n",
    "            top_shap_values = shap_values_summary[sorted_indices][-10:]\n",
    "            axs3[j].barh(top_features, top_shap_values, color='skyblue')\n",
    "            axs3[j].set_xlabel('SHAP Value')\n",
    "            axs3[j].set_title(f'Top 10 SHAP Values in {model_name}')\n",
    "        \n",
    "plt.tight_layout()\n",
    "plt.show()"
   ]
  },
  {
   "cell_type": "code",
   "execution_count": 17,
   "id": "692d374c",
   "metadata": {},
   "outputs": [],
   "source": [
    "X_list = [COMA_AWAKE_Power_Spectrum_scaled, COMA_AWAKE_Microstate, COMA_AWAKE_Audio_scaled]\n",
    "X_name_list = ['COMA_AWAKE_Power_Spectrum_scaled', 'COMA_Microstate_scaled', 'COMA_AWAKE_Audio_scaled']\n",
    "model = SVC(kernel='rbf', probability=True, random_state=42)"
   ]
  },
  {
   "cell_type": "code",
   "execution_count": 18,
   "id": "f3073b17",
   "metadata": {},
   "outputs": [],
   "source": [
    "fpr_list = []\n",
    "tpr_list = []\n",
    "roc_auc_list = []\n",
    "for i, (X, X_name) in enumerate(zip(X_list, X_name_list)):\n",
    "    X = np.array(X)\n",
    "    y = np.array(y)\n",
    "    fpr, tpr, roc_auc, X_train, X_test, y_train, y_test = plot_roc_curve_and_compute_auc_with_model(X, y, model)\n",
    "    fpr_list.append(fpr)\n",
    "    tpr_list.append(tpr)\n",
    "    roc_auc_list.append(roc_auc)"
   ]
  },
  {
   "cell_type": "code",
   "execution_count": 19,
   "id": "4be250f9",
   "metadata": {},
   "outputs": [],
   "source": [
    "plt.rcParams['font.family'] = 'serif'\n",
    "font_size = 12\n",
    "plt.rcParams.update({'font.size': font_size, 'font.weight': 'bold'})\n",
    "plt.figure()\n",
    "plt.plot(fpr_list[0], tpr_list[0], color='limegreen', lw=2, label='Power_Spectrum (AUC = %0.2f)' % roc_auc_list[0])\n",
    "plt.plot(fpr_list[2], tpr_list[2], color='royalblue', lw=2, label='ERP (AUC = %0.2f)' % roc_auc_list[2])\n",
    "plt.plot(fpr_list[1], tpr_list[1], color='darkorange', lw=2, label='Microstate (AUC = %0.2f)' % roc_auc_list[1])\n",
    "plt.plot([0, 1], [0, 1], color='navy', lw=2, linestyle='--')\n",
    "plt.xlim([0.0, 1.0])\n",
    "plt.ylim([0.0, 1.05])\n",
    "plt.xlabel('False Positive Rate', fontsize=font_size, fontweight='bold')\n",
    "plt.ylabel('True Positive Rate', fontsize=font_size, fontweight='bold')\n",
    "plt.title('ROC Curve', fontsize=font_size, fontweight='bold')\n",
    "plt.legend(loc=\"lower right\")\n",
    "plt.savefig('PS_Microstate_ERP_roc.jpg', dpi=400)\n",
    "plt.show()"
   ]
  },
  {
   "cell_type": "code",
   "execution_count": 20,
   "id": "01127ad3",
   "metadata": {},
   "outputs": [],
   "source": [
    "# ------------------------------------------------------\n",
    "# 人工筛选特征\n",
    "# ------------------------------------------------------"
   ]
  },
  {
   "cell_type": "code",
   "execution_count": 21,
   "id": "86a46b35",
   "metadata": {},
   "outputs": [],
   "source": [
    "select_power_spectrum_scaled = COMA_AWAKE_Power_Spectrum_scaled.loc[:, ['frontal_β', 'central_δ', 'parietal_δ']]\n",
    "select_microstate = COMA_AWAKE_Microstate.loc[:, ['MeanDur_A', 'TimeCov_E', 'SegDensity_F', 'C_ToF', 'F_ToC', 'D_ToC', 'C_ToD']]\n",
    "select_audio = COMA_AWAKE_Audio_scaled.loc[:, ['MMNFZ__amplitude']]"
   ]
  },
  {
   "cell_type": "code",
   "execution_count": 22,
   "id": "b74fbaf2",
   "metadata": {},
   "outputs": [],
   "source": [
    "select_feat = pd.concat([select_power_spectrum_scaled, select_microstate, select_audio], axis=1)\n",
    "feature_names = select_feat.columns"
   ]
  },
  {
   "cell_type": "code",
   "execution_count": 23,
   "id": "f9d06161",
   "metadata": {
    "scrolled": true
   },
   "outputs": [],
   "source": [
    "X = np.array(select_feat)"
   ]
  },
  {
   "cell_type": "code",
   "execution_count": 24,
   "id": "9daa23eb",
   "metadata": {},
   "outputs": [],
   "source": [
    "y"
   ]
  },
  {
   "cell_type": "code",
   "execution_count": 25,
   "id": "3959dd68",
   "metadata": {},
   "outputs": [],
   "source": [
    "X_train, X_test, y_train, y_test = train_test_split(X, y, test_size=0.4, random_state=42)"
   ]
  },
  {
   "cell_type": "code",
   "execution_count": 26,
   "id": "3f11ac65",
   "metadata": {},
   "outputs": [],
   "source": [
    "# 构建和训练 SVM 模型\n",
    "model = SVC(kernel='rbf', probability=True, random_state=42)\n",
    "model.fit(X_train, y_train)\n",
    "# 预测概率\n",
    "y_pred_proba = model.predict_proba(X_test)[:, 1]\n",
    "\n",
    "# 计算 ROC 曲线和 AUC\n",
    "fpr, tpr, _ = roc_curve(y_test, y_pred_proba)\n",
    "roc_auc = auc(fpr, tpr)\n",
    "\n",
    "# 绘制 ROC 曲线\n",
    "plt.figure()\n",
    "plt.plot(fpr, tpr, color='darkorange', lw=2, label='ROC curve (AUC = %0.2f)' % roc_auc)\n",
    "plt.plot([0, 1], [0, 1], color='navy', lw=2, linestyle='--')\n",
    "plt.xlim([0.0, 1.0])\n",
    "plt.ylim([0.0, 1.05])\n",
    "plt.xlabel('False Positive Rate')\n",
    "plt.ylabel('True Positive Rate')\n",
    "plt.title('Receiver Operating Characteristic')\n",
    "plt.legend(loc=\"lower right\")\n",
    "plt.show()"
   ]
  },
  {
   "cell_type": "code",
   "execution_count": 27,
   "id": "5f4cc82c",
   "metadata": {},
   "outputs": [],
   "source": [
    "# 使用KernelExplainer解释模型\n",
    "# explainer = shap.Explainer(model.predict, X_train)\n",
    "explainer = shap.KernelExplainer(model.predict, X_train)\n",
    "shap_values = explainer.shap_values(X)"
   ]
  },
  {
   "cell_type": "code",
   "execution_count": 28,
   "id": "2dc35af7",
   "metadata": {},
   "outputs": [],
   "source": [
    "shap_values.shape"
   ]
  },
  {
   "cell_type": "code",
   "execution_count": 29,
   "id": "2eb2364a",
   "metadata": {},
   "outputs": [],
   "source": [
    "# 汇总解释结果\n",
    "shap.summary_plot(shap_values, X, feature_names=feature_names, max_display=15)"
   ]
  },
  {
   "cell_type": "code",
   "execution_count": 30,
   "id": "b29c4773",
   "metadata": {},
   "outputs": [],
   "source": [
    "shap.summary_plot(shap_values, X, feature_names=feature_names, plot_type='bar', max_display=15)"
   ]
  },
  {
   "cell_type": "code",
   "execution_count": null,
   "id": "eebae583",
   "metadata": {},
   "outputs": [],
   "source": []
  },
  {
   "cell_type": "code",
   "execution_count": null,
   "id": "a0ca9ed9",
   "metadata": {},
   "outputs": [],
   "source": []
  },
  {
   "cell_type": "code",
   "execution_count": null,
   "id": "7b31944b",
   "metadata": {},
   "outputs": [],
   "source": []
  }
 ],
 "metadata": {
  "kernelspec": {
   "display_name": "Python 3 (ipykernel)",
   "language": "python",
   "name": "python3"
  },
  "language_info": {
   "codemirror_mode": {
    "name": "ipython",
    "version": 3
   },
   "file_extension": ".py",
   "mimetype": "text/x-python",
   "name": "python",
   "nbconvert_exporter": "python",
   "pygments_lexer": "ipython3",
   "version": "3.11.3"
  }
 },
 "nbformat": 4,
 "nbformat_minor": 5
}
